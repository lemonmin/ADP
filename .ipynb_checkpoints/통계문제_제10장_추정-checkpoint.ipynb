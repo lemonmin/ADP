{
 "cells": [
  {
   "cell_type": "code",
   "execution_count": 2,
   "id": "825bc1b2",
   "metadata": {},
   "outputs": [],
   "source": [
    "'''\n",
    "http://kocw.xcache.kinxcdn.com/KOCW/document/2018/wonkwang/kimjunhui0410/12.pdf\n",
    "위 통계 강좌 자료를 Python으로 풀어보는 것에 목적을 둔다.\n",
    "'''\n",
    "\n",
    "import pandas as pd\n",
    "import numpy as np"
   ]
  },
  {
   "cell_type": "markdown",
   "id": "fedc0013",
   "metadata": {},
   "source": [
    "# 점추정\n",
    "### 예제 10-1. 어떤 통조림의 내용물이 300g이라고 표시되어 있다. 실제 무게를 추정하기 위하여 10개의 통조림을 랜덤하게 뽑아 조사한 결과 다음의 정보를 얻었다.\n",
    "### 295  302  285  290  310  298  305  300  292  287\n",
    "### 통조림 무게의 평균과 표준오차(표본 표준편차)를 구하여라."
   ]
  },
  {
   "cell_type": "code",
   "execution_count": 12,
   "id": "7a835738",
   "metadata": {},
   "outputs": [
    {
     "name": "stdout",
     "output_type": "stream",
     "text": [
      "평균 =  296.4\n",
      "표준오차 =  2.55255862921022\n"
     ]
    }
   ],
   "source": [
    "data = pd.Series([295,302,285,290,310,298,305,300,292,287])\n",
    "print(\"평균 = \", data.mean())\n",
    "print(\"표준오차 = \", data.sem())"
   ]
  },
  {
   "cell_type": "code",
   "execution_count": 13,
   "id": "b95bb5b9",
   "metadata": {},
   "outputs": [
    {
     "data": {
      "text/plain": [
       "'\\n실제 통계식 풀이\\n'"
      ]
     },
     "execution_count": 13,
     "metadata": {},
     "output_type": "execute_result"
    }
   ],
   "source": [
    "'''\n",
    "실제 통계식 풀이\n",
    "'''"
   ]
  },
  {
   "cell_type": "markdown",
   "id": "e536a887",
   "metadata": {},
   "source": [
    "### 예제 10-2. 방송국에서 새 프로그램에 대한 여론을 조사하기 위하여 1000명을 랜덤하게추출하여 찬반을 조사하였다. 조사 결과 900명이 찬성했다. 찬성률에 대한 추정값(표본비율)을 구하고 표준오차를 구하여라."
   ]
  },
  {
   "cell_type": "code",
   "execution_count": null,
   "id": "08e425d4",
   "metadata": {},
   "outputs": [],
   "source": []
  },
  {
   "cell_type": "markdown",
   "id": "e9a90c3e",
   "metadata": {},
   "source": [
    "### 예제 10-3. 어느 고등학교 3학년 학생들의 평균 수면시간을 조사하기 위하여 64명을 조사한 결과 표본평균 = 6(시간), s = 1(시간)이었다. 평균 수면시간의 98% 신뢰구간을 구하여라."
   ]
  },
  {
   "cell_type": "code",
   "execution_count": null,
   "id": "003a8463",
   "metadata": {},
   "outputs": [],
   "source": []
  },
  {
   "cell_type": "markdown",
   "id": "ad553852",
   "metadata": {},
   "source": [
    "### 예제 10-4. 생략..?"
   ]
  },
  {
   "cell_type": "markdown",
   "id": "2bcf97a7",
   "metadata": {},
   "source": [
    "### 예제 10-5. 시중에서 판매되는 컴퓨터의 불량을 추정하려 한다. 870대의 컴퓨터를 랜덤추출하여 조사하였더니 불량품이 330대였다. 판매되는 컴퓨터의 불량률에 대한 90%신뢰구간을 구하여라. "
   ]
  },
  {
   "cell_type": "code",
   "execution_count": null,
   "id": "1c38ac12",
   "metadata": {},
   "outputs": [],
   "source": []
  },
  {
   "cell_type": "markdown",
   "id": "1f00098f",
   "metadata": {},
   "source": [
    "### 예제 10-6. 서울 지역의 지하철 5호선과 4호선을 이용하는 승객들의 1인당 1일 이용요금이 어느 정도인지를 알아보기 위하여 지하철 5호선과 지하철 4호선 이용승객 중 각각 50명, 30명을 무작위로 추출하여 1일 평균 이용금액을 조사하였더니 다음과 같았다. 이러한 자료를 바탕으로 지하철 5호선 1일 평균 이용금액과 지하철 4호선 1일 평균 이용금액 차이 m1-m2 에 대하여 95% 신뢰수준으로 구간추정하여라.\n",
    "\n",
    "#### 지하철 5호선 표본크기 : n1 = 50 / 표본평균 : -X = 1256 / S1 = 215\n",
    "#### 지하철 4호선 표본크기 : n2 = 30 / 표본평균 : -Y = 1330 / S2 = 238"
   ]
  },
  {
   "cell_type": "code",
   "execution_count": null,
   "id": "ac567708",
   "metadata": {},
   "outputs": [],
   "source": []
  },
  {
   "cell_type": "markdown",
   "id": "07950aad",
   "metadata": {},
   "source": [
    "### 예제 10-7. 교재 참고...?"
   ]
  },
  {
   "cell_type": "markdown",
   "id": "934d3f6a",
   "metadata": {},
   "source": [
    "### 예제 10-8. 조선일보와 한국갤럽은 지난 해 12월15일 전국의 유권자 중 A 도시에서 100명의 유권자를, B도시에서 200명의 유권자를 임의로 추출하여 12월18일에 실시하는 대통령 선거에 대한 전화 여론조사를 실시하여 ‘투표에 꼭 참여하겠다’는 응답률을 조사한 결과 A 도시에서는 65명이, B 도시에서는 110명이 ‘투표에 꼭 참여하겠다’는 응답을 했다고 한다. A 도시에 B 도시의 전체 유권자들 가운데 ‘투표에 꼭 참여하겠다’는 비율의 차이를 95%신뢰수준으로 구간추정하여라. "
   ]
  },
  {
   "cell_type": "code",
   "execution_count": null,
   "id": "c57ea20e",
   "metadata": {},
   "outputs": [],
   "source": []
  },
  {
   "cell_type": "markdown",
   "id": "dd241591",
   "metadata": {},
   "source": [
    "### 예제 10-10. 우리나라의 사회 및 문화 환경의 변화로 이혼이 늘면서 하루 평균 이혼이 m=233쌍,표준편차 o=35 쌍이라고 한다. 하루 평균 이혼율을 95%신뢰수준 하에서, 그리고 5명 이하의 표본오차로 추정하기 위해서는 표본크기가 얼마정도 되어야 하는가?"
   ]
  },
  {
   "cell_type": "code",
   "execution_count": null,
   "id": "294859b7",
   "metadata": {},
   "outputs": [],
   "source": []
  },
  {
   "cell_type": "markdown",
   "id": "c9043d8d",
   "metadata": {},
   "source": [
    "### 예제 10-11. 어느 대학에서는 학생들의 흡연율을 조사하고자 한다. 흡연율의 90%추정오차한계가 5%이내가 되기 위한 표본크기를 구하여라. "
   ]
  },
  {
   "cell_type": "code",
   "execution_count": null,
   "id": "1dc0c0cb",
   "metadata": {},
   "outputs": [],
   "source": []
  },
  {
   "cell_type": "code",
   "execution_count": null,
   "id": "c2b68f9b",
   "metadata": {},
   "outputs": [],
   "source": []
  }
 ],
 "metadata": {
  "kernelspec": {
   "display_name": "Python 3 (ipykernel)",
   "language": "python",
   "name": "python3"
  },
  "language_info": {
   "codemirror_mode": {
    "name": "ipython",
    "version": 3
   },
   "file_extension": ".py",
   "mimetype": "text/x-python",
   "name": "python",
   "nbconvert_exporter": "python",
   "pygments_lexer": "ipython3",
   "version": "3.9.7"
  }
 },
 "nbformat": 4,
 "nbformat_minor": 5
}
