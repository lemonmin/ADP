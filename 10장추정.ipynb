{
 "cells": [
  {
   "cell_type": "code",
   "execution_count": 4,
   "id": "825bc1b2",
   "metadata": {},
   "outputs": [],
   "source": [
    "'''\n",
    "http://kocw.xcache.kinxcdn.com/KOCW/document/2018/wonkwang/kimjunhui0410/12.pdf\n",
    "위 통계 강좌 자료를 Python으로 풀어보는 것에 목적을 둔다.\n",
    "'''\n",
    "\n",
    "import pandas as pd\n",
    "import numpy as np"
   ]
  },
  {
   "cell_type": "markdown",
   "id": "fedc0013",
   "metadata": {},
   "source": [
    "# 점추정\n",
    "### 예제 10-1. 어떤 통조림의 내용물이 300g이라고 표시되어 있다. 실제 무게를 추정하기 위하여 10개의 통조림을 랜덤하게 뽑아 조사한 결과 다음의 정보를 얻었다.\n",
    "### 295  302  285  290  310  298  305  300  292  287\n",
    "### 통조림 무게의 평균과 표준오차(표본 표준편차)를 구하여라."
   ]
  },
  {
   "cell_type": "code",
   "execution_count": 3,
   "id": "7a835738",
   "metadata": {},
   "outputs": [
    {
     "name": "stdout",
     "output_type": "stream",
     "text": [
      "평균 =  296.4\n",
      "표준오차 =  2.55255862921022\n"
     ]
    }
   ],
   "source": [
    "# 파이썬 함수 사용\n",
    "data = pd.Series([295,302,285,290,310,298,305,300,292,287])\n",
    "print(\"평균 = \", data.mean())\n",
    "print(\"표준오차 = \", data.sem())"
   ]
  },
  {
   "cell_type": "code",
   "execution_count": 38,
   "id": "b95bb5b9",
   "metadata": {},
   "outputs": [
    {
     "name": "stdout",
     "output_type": "stream",
     "text": [
      "평균 =  296.4\n",
      "표준오차 =  2.55255862921022\n"
     ]
    }
   ],
   "source": [
    "# 실제 통계식 풀이\n",
    "n = 10\n",
    "m = data.sum() / n\n",
    "print(\"평균 = \",m)\n",
    "s = np.sqrt(sum((data - m)**2) / (n-1))\n",
    "print(\"표준오차 = \", s / np.sqrt(n))"
   ]
  },
  {
   "cell_type": "markdown",
   "id": "e536a887",
   "metadata": {},
   "source": [
    "### 예제 10-2. 방송국에서 새 프로그램에 대한 여론을 조사하기 위하여 1000명을 랜덤하게추출하여 찬반을 조사하였다. 조사 결과 900명이 찬성했다. 찬성률에 대한 추정값(표본비율)을 구하고 표준오차를 구하여라."
   ]
  },
  {
   "cell_type": "code",
   "execution_count": 39,
   "id": "08e425d4",
   "metadata": {},
   "outputs": [
    {
     "name": "stdout",
     "output_type": "stream",
     "text": [
      "추정값(표본비율) =  0.9\n",
      "표준오차 =  0.009486832980505136\n"
     ]
    }
   ],
   "source": [
    "n = 1000 # 전체 표본 수\n",
    "X = 900 # 조사 특성을 띠는 수\n",
    "p_hat = X / n\n",
    "print('추정값(표본비율) = ', p_hat)\n",
    "se = np.sqrt((p_hat * (1-p_hat)) / n)\n",
    "print(\"표준오차 = \", se)"
   ]
  },
  {
   "cell_type": "markdown",
   "id": "55389e6c",
   "metadata": {},
   "source": [
    "# 구간 추정"
   ]
  },
  {
   "cell_type": "markdown",
   "id": "e9a90c3e",
   "metadata": {},
   "source": [
    "### 예제 10-3. 어느 고등학교 3학년 학생들의 평균 수면시간을 조사하기 위하여 64명을 조사한 결과 표본평균 = 6(시간), s = 1(시간)이었다. 평균 수면시간의 95% 신뢰구간을 구하여라."
   ]
  },
  {
   "cell_type": "code",
   "execution_count": 16,
   "id": "003a8463",
   "metadata": {},
   "outputs": [
    {
     "name": "stdout",
     "output_type": "stream",
     "text": [
      "95% 신뢰구간 :  (5.750207432278476, 6.249792567721524)\n"
     ]
    }
   ],
   "source": [
    "# 파이썬 함수 사용\n",
    "from scipy.stats import t\n",
    "n = 64\n",
    "x = 6 # 표본평균\n",
    "s = 1 # 표준편차\n",
    "\n",
    "dof = n-1 # 자유도\n",
    "std_err = s / (np.sqrt(n)) # 표준편차 / sqrt(n), 표준 오차\n",
    "\n",
    "CI = t.interval(0.95, dof, loc = x, scale = std_err)\n",
    "print(\"95% 신뢰구간 : \",CI)"
   ]
  },
  {
   "cell_type": "code",
   "execution_count": 10,
   "id": "ad7e8d54",
   "metadata": {},
   "outputs": [
    {
     "name": "stdout",
     "output_type": "stream",
     "text": [
      "95% 신뢰구간 :  (5.755, 6.245)\n"
     ]
    }
   ],
   "source": [
    "n = 64\n",
    "x = 6 # 표본평균\n",
    "s = 1 # 표준편차\n",
    "a = 0.05 # 유의수준\n",
    "z = 1.96 # a/2 구간의 z값\n",
    "\n",
    "CI = (6 - z * s/np.sqrt(n) , 6 + z * s/np.sqrt(n))\n",
    "print(\"95% 신뢰구간 : \",CI)"
   ]
  },
  {
   "cell_type": "markdown",
   "id": "ad553852",
   "metadata": {},
   "source": [
    "### 예제 10-4. 생략..?"
   ]
  },
  {
   "cell_type": "markdown",
   "id": "2bcf97a7",
   "metadata": {},
   "source": [
    "### 예제 10-5. 시중에서 판매되는 컴퓨터의 불량을 추정하려 한다. 870대의 컴퓨터를 랜덤추출하여 조사하였더니 불량품이 330대였다. 판매되는 컴퓨터의 불량률에 대한 90%신뢰구간을 구하여라. "
   ]
  },
  {
   "cell_type": "code",
   "execution_count": 26,
   "id": "1c38ac12",
   "metadata": {},
   "outputs": [
    {
     "name": "stdout",
     "output_type": "stream",
     "text": [
      "90%의 신뢰구간 :  (0.35376, 0.40624)\n"
     ]
    }
   ],
   "source": [
    "X = 330\n",
    "n = 870\n",
    "p = round(X / n, 2) # 표본비율\n",
    "a = 0.1\n",
    "z = 1.64 # a/2의 z값\n",
    "s = round(np.sqrt(p * (1-p) / n), 3)\n",
    "CI = (round(p - z * s, 5), round(p + z * s, 5))\n",
    "print(\"90%의 신뢰구간 : \", CI)"
   ]
  },
  {
   "cell_type": "markdown",
   "id": "074e9d82",
   "metadata": {},
   "source": [
    "# 두 모집단의 비교"
   ]
  },
  {
   "cell_type": "markdown",
   "id": "1f00098f",
   "metadata": {},
   "source": [
    "### 예제 10-6. 서울 지역의 지하철 5호선과 4호선을 이용하는 승객들의 1인당 1일 이용요금이 어느 정도인지를 알아보기 위하여 지하철 5호선과 지하철 4호선 이용승객 중 각각 50명, 30명을 무작위로 추출하여 1일 평균 이용금액을 조사하였더니 다음과 같았다. 이러한 자료를 바탕으로 지하철 5호선 1일 평균 이용금액과 지하철 4호선 1일 평균 이용금액 차이 m1-m2 에 대하여 95% 신뢰수준으로 구간추정하여라.\n",
    "\n",
    "\n",
    "#### (보기와 풀이의 값이 달라서 풀이 기준으로 변경함, 심지어 풀이에서도 Y평균값이 오타인 것으로 보임...)\n",
    "#### 지하철 5호선 표본크기 : n1 = 50 / 표본평균 : -X = 1330 / S1 = 215\n",
    "#### 지하철 4호선 표본크기 : n2 = 30 / 표본평균 : -Y = 1255 / S2 = 238\n",
    "\n",
    "##### * 모평균의 차이 *"
   ]
  },
  {
   "cell_type": "code",
   "execution_count": 37,
   "id": "ac567708",
   "metadata": {},
   "outputs": [
    {
     "name": "stdout",
     "output_type": "stream",
     "text": [
      "95%의 신뢰구간 :  (-28.95, 178.95)\n"
     ]
    }
   ],
   "source": [
    "n1 = 50\n",
    "n2 = 30\n",
    "X = 1330\n",
    "Y = 1255\n",
    "S1 = 215\n",
    "S2 = 238\n",
    "a = 0.05\n",
    "z = 1.96 # a/2 의 z값\n",
    "\n",
    "XY = X-Y\n",
    "SXY = np.sqrt((S1**2 / n1 + S2**2 / n2))\n",
    "\n",
    "CI = (round(X - Y - z * SXY, 2), round(X - Y + z * SXY, 2))\n",
    "print(\"95%의 신뢰구간 : \",CI)"
   ]
  },
  {
   "cell_type": "markdown",
   "id": "07950aad",
   "metadata": {},
   "source": [
    "### 예제 10-7. 교재 참고...?"
   ]
  },
  {
   "cell_type": "code",
   "execution_count": 38,
   "id": "cd6d7977",
   "metadata": {},
   "outputs": [],
   "source": [
    "### 소표본 (n1, n2 < 30) 의 두 모평균 차의 신뢰구간은 t-분포를 이용함\n",
    "### ( (X1-X2)-t*(n1+n2-2)*Sp*np.sqrt(1/n1+1/n2), (X1-X2)+t*(n1+n2-2)*Sp*np.sqrt(1/n1+1/n2) )\n",
    "### 단 Sp**2 은 두 모집단의 표본 크기가 다를 수 있으므로 각각의 자유도에 대한 가중평균으로 정의한 합동표본분산\n",
    "### Sp**2 = (n1-1) * S1**2 + (n2-1) * S2**2 / n1+n2-2"
   ]
  },
  {
   "cell_type": "markdown",
   "id": "934d3f6a",
   "metadata": {},
   "source": [
    "### 예제 10-8. 조선일보와 한국갤럽은 지난 해 12월15일 전국의 유권자 중 A 도시에서 100명의 유권자를, B도시에서 200명의 유권자를 임의로 추출하여 12월18일에 실시하는 대통령 선거에 대한 전화 여론조사를 실시하여 ‘투표에 꼭 참여하겠다’는 응답률을 조사한 결과 A 도시에서는 65명이, B 도시에서는 110명이 ‘투표에 꼭 참여하겠다’는 응답을 했다고 한다. A 도시에 B 도시의 전체 유권자들 가운데 ‘투표에 꼭 참여하겠다’는 비율의 차이를 95%신뢰수준으로 구간추정하여라. \n",
    "\n",
    "##### * 모비율의 차이 *"
   ]
  },
  {
   "cell_type": "code",
   "execution_count": 45,
   "id": "c57ea20e",
   "metadata": {},
   "outputs": [
    {
     "name": "stdout",
     "output_type": "stream",
     "text": [
      "95% 신뢰수준의 모비율의 신뢰구간 :  (-0.0176, 0.2176)\n"
     ]
    }
   ],
   "source": [
    "n1 = 100\n",
    "n2 = 200\n",
    "p1 = 65/n1\n",
    "p2 = 110/n2\n",
    "a = 0.05\n",
    "z = 1.96\n",
    "q1 = 1-p1\n",
    "q2 = 1-p2\n",
    "\n",
    "pp = round(p1-p2, 2)\n",
    "pq = round(np.sqrt(p1*q1/n1 + p2*q2/n2), 2)\n",
    "\n",
    "CI = (round(pp - z * pq, 4), round(pp + z * pq, 4))\n",
    "print(\"95% 신뢰수준의 모비율의 신뢰구간 : \",CI)\n",
    "# ppt 풀이 답에 오타가 있는 듯.."
   ]
  },
  {
   "cell_type": "markdown",
   "id": "656914f0",
   "metadata": {},
   "source": [
    "# 표본 크기의 결정"
   ]
  },
  {
   "cell_type": "markdown",
   "id": "dd241591",
   "metadata": {},
   "source": [
    "### 예제 10-10. 우리나라의 사회 및 문화 환경의 변화로 이혼이 늘면서 하루 평균 이혼이 m=233쌍,표준편차 o=35 쌍이라고 한다. 하루 평균 이혼율을 95%신뢰수준 하에서, 그리고 5명 이하의 표본오차로 추정하기 위해서는 표본크기가 얼마정도 되어야 하는가?"
   ]
  },
  {
   "cell_type": "code",
   "execution_count": 51,
   "id": "294859b7",
   "metadata": {},
   "outputs": [
    {
     "name": "stdout",
     "output_type": "stream",
     "text": [
      "최조 표본크기 :  189\n"
     ]
    }
   ],
   "source": [
    "# 평균 추정에서 표본크기\n",
    "\n",
    "import math\n",
    "m = 233\n",
    "s = 35\n",
    "a = 0.05\n",
    "d = 5\n",
    "z = 1.96\n",
    "\n",
    "n = (z * s / d)**2\n",
    "print(\"최조 표본크기 : \", math.ceil(n)) # 올림"
   ]
  },
  {
   "cell_type": "markdown",
   "id": "c9043d8d",
   "metadata": {},
   "source": [
    "### 예제 10-11. 어느 대학에서는 학생들의 흡연율을 조사하고자 한다. 흡연율의 90%추정오차한계가 5%이내가 되기 위한 표본크기를 구하여라. "
   ]
  },
  {
   "cell_type": "code",
   "execution_count": 53,
   "id": "1dc0c0cb",
   "metadata": {},
   "outputs": [
    {
     "name": "stdout",
     "output_type": "stream",
     "text": [
      "최소 표본크기 :  271\n"
     ]
    }
   ],
   "source": [
    "# 모비율 추정에서 표본크기\n",
    "# 모비율에 대한 정보가 주어지지 않을 경우엔 표본비율을 p=1/2 로 두고 표본 크기 결정\n",
    "\n",
    "# 여기서는 모비율에 대한 정보가 주어지지 않았음\n",
    "p = 1/2\n",
    "q = 1-p\n",
    "z = 1.645 # 유의수준 0.05의 z값\n",
    "d = 0.05 # 추정오차한계\n",
    "\n",
    "n = p * q * (z / d) ** 2\n",
    "print(\"최소 표본크기 : \", math.ceil(n))"
   ]
  },
  {
   "cell_type": "code",
   "execution_count": null,
   "id": "c2b68f9b",
   "metadata": {},
   "outputs": [],
   "source": []
  }
 ],
 "metadata": {
  "kernelspec": {
   "display_name": "Python 3 (ipykernel)",
   "language": "python",
   "name": "python3"
  },
  "language_info": {
   "codemirror_mode": {
    "name": "ipython",
    "version": 3
   },
   "file_extension": ".py",
   "mimetype": "text/x-python",
   "name": "python",
   "nbconvert_exporter": "python",
   "pygments_lexer": "ipython3",
   "version": "3.9.7"
  }
 },
 "nbformat": 4,
 "nbformat_minor": 5
}
