{
 "cells": [
  {
   "cell_type": "code",
   "execution_count": 1,
   "id": "440ec3ab",
   "metadata": {},
   "outputs": [],
   "source": [
    "import pandas as pd\n",
    "import numpy as np"
   ]
  },
  {
   "cell_type": "markdown",
   "id": "dd7f48a9",
   "metadata": {},
   "source": [
    "# 1. 철강제품의 불량률을 조사하고자 한다. 이 때, 불량률의 90%, 추정오차한계가 5% 이내가 되기 위하여 적절한 표본의 크기 중 최소값은 얼마인가?(5점)"
   ]
  },
  {
   "cell_type": "code",
   "execution_count": 7,
   "id": "59f38e3d",
   "metadata": {},
   "outputs": [
    {
     "name": "stdout",
     "output_type": "stream",
     "text": [
      "표본 크기는  270.60249999999996  보다 크거나 같아야함\n",
      "따라서 최소 표본의 크기는  271 이다.\n"
     ]
    }
   ],
   "source": [
    "# 유의수준(a) = 0.1, a/2의 z = 1.645, 추정오차한계(d) = 0.05\n",
    "# 최소 표본크기 n = 1/4 * (z / d) ** 2\n",
    "n = 1/4 * (1.645 / 0.05)**2\n",
    "print(\"표본 크기는 \",n,\" 보다 크거나 같아야함\") # 270.60249999999996\n",
    "print(\"따라서 최소 표본의 크기는 \",round(n),\"이다.\")"
   ]
  },
  {
   "cell_type": "markdown",
   "id": "4fdc38f2",
   "metadata": {},
   "source": [
    "# 2. 다음은 1월부터 9월까지의 은의 가격이다.\n",
    "## 1월 : 22.3,  2월 : ..,  .., 9월 : 40.2\n",
    "\n",
    "### 2-1. 은의 가격 및 이동평균값 3이 설정된 시계열 그래프를 그려라(5점)."
   ]
  },
  {
   "cell_type": "code",
   "execution_count": null,
   "id": "858aee15",
   "metadata": {},
   "outputs": [],
   "source": []
  },
  {
   "cell_type": "markdown",
   "id": "c2a5e4b9",
   "metadata": {},
   "source": [
    "### 2-2. 1월 대비 9월의 은의 가격은 몇 % 올랐는가? 소수점 두번째 자리에서 반올림(5점)."
   ]
  },
  {
   "cell_type": "code",
   "execution_count": 11,
   "id": "4df6b6e2",
   "metadata": {},
   "outputs": [
    {
     "name": "stdout",
     "output_type": "stream",
     "text": [
      "80.27%\n"
     ]
    }
   ],
   "source": [
    "print(f'{round((40.2 / 22.3 - 1)*100, 2)}%')"
   ]
  },
  {
   "cell_type": "markdown",
   "id": "8b3320bd",
   "metadata": {},
   "source": [
    "# 3. 선거\n",
    "### 3-1. 연구가설과 귀무가설을 설정하라 (5점)"
   ]
  },
  {
   "cell_type": "code",
   "execution_count": 12,
   "id": "2be05765",
   "metadata": {},
   "outputs": [
    {
     "name": "stdout",
     "output_type": "stream",
     "text": [
      "\n",
      " - H0 귀무가설: 선거구별로 A후보의 지지율의 차이는 없다. \n",
      " - H1 연구가설: 선거구별로 A후보의 지지율은 유의미한 차이가 있다.\n",
      "\n"
     ]
    }
   ],
   "source": [
    "print('''\n",
    " - H0 귀무가설: 선거구별로 A후보의 지지율의 차이는 없다. \n",
    " - H1 연구가설: 선거구별로 A후보의 지지율은 유의미한 차이가 있다.\n",
    "''')"
   ]
  },
  {
   "cell_type": "markdown",
   "id": "820a507d",
   "metadata": {},
   "source": [
    "### 3-2. 통계량을 구하고, 연구가설 채택 여부를 기술하라(5점)."
   ]
  },
  {
   "cell_type": "code",
   "execution_count": null,
   "id": "ba5a9aa6",
   "metadata": {},
   "outputs": [],
   "source": []
  },
  {
   "cell_type": "markdown",
   "id": "8a1dcd93",
   "metadata": {},
   "source": [
    "# 4. A초등학교 남학생 16명과 여학생 9명의 혈압을 측정한 pressure.csv파일을 가지고 남녀학생의 평균 혈압에 차이가 없는지 분석하라. 단, 남학생과 여학생의 혈압 데이터는 정규분포를 따르며 등분산임을 가정한다.\n",
    "### 4-1. 연구가설과 귀무가설 설정하라(5점)."
   ]
  },
  {
   "cell_type": "code",
   "execution_count": null,
   "id": "868bc792",
   "metadata": {},
   "outputs": [],
   "source": []
  },
  {
   "cell_type": "markdown",
   "id": "17e01779",
   "metadata": {},
   "source": [
    "### 4-2. 통계량을 구하고, 연구가설 채택 여부를 기술하라(5점)."
   ]
  },
  {
   "cell_type": "code",
   "execution_count": null,
   "id": "a5cfec33",
   "metadata": {},
   "outputs": [],
   "source": []
  },
  {
   "cell_type": "markdown",
   "id": "0c541ae2",
   "metadata": {},
   "source": [
    "### 4-3. 4-2에서 구한 검정통계량 값을 바탕으로 신뢰구간을 구하라(5점)"
   ]
  },
  {
   "cell_type": "code",
   "execution_count": null,
   "id": "2d4a4a2a",
   "metadata": {},
   "outputs": [],
   "source": []
  },
  {
   "cell_type": "markdown",
   "id": "765d5957",
   "metadata": {},
   "source": [
    "# 5. height(키), weight(몸무게), waist(허리둘레) 컬럼을 가진 weight.csv파일을 가지고 다음을 분석하라.\n",
    "### 5-1 키와 몸무게를 독립변수로 받아 허리둘레를 추정하는 베이지안 모델을 제시하라. burn-in은 1,000, MCMC는 10,000으로 넣고, …(5점)."
   ]
  },
  {
   "cell_type": "code",
   "execution_count": null,
   "id": "b54cb36e",
   "metadata": {},
   "outputs": [],
   "source": []
  },
  {
   "cell_type": "markdown",
   "id": "2e60b722",
   "metadata": {},
   "source": [
    "### 5-2. 5-1에서 만든 모델을 바탕으로 키 180cm, 허리둘레 85cm인 남성의 몸무게를 추정하라(5점)."
   ]
  },
  {
   "cell_type": "code",
   "execution_count": null,
   "id": "912edfb5",
   "metadata": {},
   "outputs": [],
   "source": []
  },
  {
   "cell_type": "code",
   "execution_count": null,
   "id": "619b0262",
   "metadata": {},
   "outputs": [],
   "source": []
  }
 ],
 "metadata": {
  "kernelspec": {
   "display_name": "Python 3 (ipykernel)",
   "language": "python",
   "name": "python3"
  },
  "language_info": {
   "codemirror_mode": {
    "name": "ipython",
    "version": 3
   },
   "file_extension": ".py",
   "mimetype": "text/x-python",
   "name": "python",
   "nbconvert_exporter": "python",
   "pygments_lexer": "ipython3",
   "version": "3.9.7"
  }
 },
 "nbformat": 4,
 "nbformat_minor": 5
}
