{
 "cells": [
  {
   "cell_type": "code",
   "execution_count": 7,
   "metadata": {},
   "outputs": [],
   "source": [
    "import pandas as pd\n",
    "import numpy as np\n",
    "import matplotlib.pyplot as plt"
   ]
  },
  {
   "cell_type": "markdown",
   "metadata": {},
   "source": [
    "# 1. 철강제품의 불량률을 조사하고자 한다. 이 때, 불량률의 90%, 추정오차한계가 5% 이내가 되기 위하여 적절한 표본의 크기 중 최소값은 얼마인가?(5점)"
   ]
  },
  {
   "cell_type": "code",
   "execution_count": 7,
   "metadata": {},
   "outputs": [
    {
     "name": "stdout",
     "output_type": "stream",
     "text": [
      "표본 크기는  270.60249999999996  보다 크거나 같아야함\n",
      "따라서 최소 표본의 크기는  271 이다.\n"
     ]
    }
   ],
   "source": [
    "# 유의수준(a) = 0.1, a/2의 z = 1.645, 추정오차한계(d) = 0.05\n",
    "# 최소 표본크기 n = 1/4 * (z / d) ** 2\n",
    "n = 1/4 * (1.645 / 0.05)**2\n",
    "print(\"표본 크기는 \",n,\" 보다 크거나 같아야함\") # 270.60249999999996\n",
    "print(\"따라서 최소 표본의 크기는 \",round(n),\"이다.\")"
   ]
  },
  {
   "cell_type": "markdown",
   "metadata": {},
   "source": [
    "# 2. 다음은 1월부터 9월까지의 은의 가격이다.\n",
    "## 1월 : 22.3,  2월 : ..,  .., 9월 : 40.2\n",
    "\n",
    "### 2-1. 은의 가격 및 이동평균값 3이 설정된 시계열 그래프를 그려라(5점)."
   ]
  },
  {
   "cell_type": "code",
   "execution_count": 31,
   "metadata": {},
   "outputs": [
    {
     "data": {
      "text/plain": [
       "[<matplotlib.lines.Line2D at 0x1fe5526c160>]"
      ]
     },
     "execution_count": 31,
     "metadata": {},
     "output_type": "execute_result"
    },
    {
     "data": {
      "image/png": "[encoded data removed]",
      "text/plain": [
       "<Figure size 432x288 with 1 Axes>"
      ]
     },
     "metadata": {
      "needs_background": "light"
     },
     "output_type": "display_data"
    }
   ],
   "source": [
    "# 데이터가 없어서 대략 22.3 ~ 40.2 사이로 증가하는 랜덤 값 생성\n",
    "data = [22.3]+sorted([round(n, 1) for n in np.random.uniform(22.3, 40.2, 7)])+[40.2]\n",
    "data = pd.DataFrame(data)\n",
    "data3 = data.rolling(3).mean()\n",
    "plt.plot(data, color='grey')\n",
    "plt.plot(data3, color='red')"
   ]
  },
  {
   "cell_type": "markdown",
   "metadata": {},
   "source": [
    "### 2-2. 1월 대비 9월의 은의 가격은 몇 % 올랐는가? 소수점 두번째 자리에서 반올림(5점)."
   ]
  },
  {
   "cell_type": "code",
   "execution_count": 1,
   "metadata": {},
   "outputs": [
    {
     "name": "stdout",
     "output_type": "stream",
     "text": [
      "80.27%\n"
     ]
    }
   ],
   "source": [
    "print(f'{round((40.2 / 22.3 - 1)*100, 2)}%')"
   ]
  },
  {
   "cell_type": "markdown",
   "metadata": {},
   "source": [
    "# 3. 선거\n",
    "### 3-1. 연구가설과 귀무가설을 설정하라 (5점)"
   ]
  },
  {
   "cell_type": "code",
   "execution_count": 12,
   "metadata": {},
   "outputs": [
    {
     "name": "stdout",
     "output_type": "stream",
     "text": [
      "\n",
      " - H0 귀무가설: 선거구별로 A후보의 지지율의 차이는 없다. \n",
      " - H1 연구가설: 선거구별로 A후보의 지지율은 유의미한 차이가 있다.\n",
      "\n"
     ]
    }
   ],
   "source": [
    "print('''\n",
    " - H0 귀무가설: 선거구별로 A후보의 지지율의 차이는 없다. \n",
    " - H1 연구가설: 선거구별로 A후보의 지지율은 유의미한 차이가 있다.\n",
    "''')"
   ]
  },
  {
   "cell_type": "markdown",
   "metadata": {},
   "source": [
    "### 3-2. 통계량을 구하고, 연구가설 채택 여부를 기술하라(5점)."
   ]
  },
  {
   "cell_type": "code",
   "execution_count": 5,
   "metadata": {},
   "outputs": [
    {
     "name": "stdout",
     "output_type": "stream",
     "text": [
      "검정통계량 :  7.081891215739675\n",
      "p-value :  0.02898590481917518\n",
      "\n",
      "p-value가  0.02898590481917518 로 유의수준 95%하에서 귀무가설을 기각한다.\n",
      "즉 선거구별로 A후보의 지지율은 유의미한 차이가 있다고 할 수 있다.\n"
     ]
    }
   ],
   "source": [
    "import pandas as pd\n",
    "from scipy import stats \n",
    "\n",
    "table = pd.DataFrame({'1선거구':[172, 45], '2선거구':[124,58], '3선거구':[157,65]},\n",
    "                     index=['지지함', '지지하지 않음'])\n",
    "   \n",
    "f, p, _, _ = stats.chi2_contingency(observed=table)\n",
    "\n",
    "print(\"검정통계량 : \", f)\n",
    "print(\"p-value : \", p)\n",
    "print()\n",
    "print(\"p-value가 \",p,'로 유의수준 95%하에서 귀무가설을 기각한다.')\n",
    "print(\"즉 선거구별로 A후보의 지지율은 유의미한 차이가 있다고 할 수 있다.\")"
   ]
  },
  {
   "cell_type": "markdown",
   "metadata": {},
   "source": [
    "# 4. A초등학교 남학생 16명과 여학생 9명의 혈압을 측정한 pressure.csv파일을 가지고 남녀학생의 평균 혈압에 차이가 없는지 분석하라. 단, 남학생과 여학생의 혈압 데이터는 정규분포를 따르며 등분산임을 가정한다.\n",
    "### 4-1. 연구가설과 귀무가설 설정하라(5점)."
   ]
  },
  {
   "cell_type": "code",
   "execution_count": 6,
   "metadata": {},
   "outputs": [
    {
     "name": "stdout",
     "output_type": "stream",
     "text": [
      "\n",
      "- H0 귀무가설: 남학생과 여학생의 평균 혈압의 차이는 없다. \n",
      "- H1 연구가설: 남학생과 여학생의 평균 혈압은 유의미한 차이가 있다.\n",
      "\n"
     ]
    }
   ],
   "source": [
    "print('''\n",
    "- H0 귀무가설: 남학생과 여학생의 평균 혈압의 차이는 없다. \n",
    "- H1 연구가설: 남학생과 여학생의 평균 혈압은 유의미한 차이가 있다.\n",
    "''')"
   ]
  },
  {
   "cell_type": "markdown",
   "metadata": {},
   "source": [
    "### 4-2. 통계량을 구하고, 연구가설 채택 여부를 기술하라(5점)."
   ]
  },
  {
   "cell_type": "code",
   "execution_count": 37,
   "metadata": {},
   "outputs": [
    {
     "data": {
      "text/html": [
       "<div>\n",
       "<style scoped>\n",
       "    .dataframe tbody tr th:only-of-type {\n",
       "        vertical-align: middle;\n",
       "    }\n",
       "\n",
       "    .dataframe tbody tr th {\n",
       "        vertical-align: top;\n",
       "    }\n",
       "\n",
       "    .dataframe thead th {\n",
       "        text-align: right;\n",
       "    }\n",
       "</style>\n",
       "<table border=\"1\" class=\"dataframe\">\n",
       "  <thead>\n",
       "    <tr style=\"text-align: right;\">\n",
       "      <th></th>\n",
       "      <th>남자</th>\n",
       "      <th>여자</th>\n",
       "    </tr>\n",
       "  </thead>\n",
       "  <tbody>\n",
       "    <tr>\n",
       "      <th>0</th>\n",
       "      <td>47.303636</td>\n",
       "      <td>37.405648</td>\n",
       "    </tr>\n",
       "    <tr>\n",
       "      <th>1</th>\n",
       "      <td>34.887840</td>\n",
       "      <td>47.369707</td>\n",
       "    </tr>\n",
       "    <tr>\n",
       "      <th>2</th>\n",
       "      <td>27.681112</td>\n",
       "      <td>41.153413</td>\n",
       "    </tr>\n",
       "    <tr>\n",
       "      <th>3</th>\n",
       "      <td>27.225157</td>\n",
       "      <td>27.782907</td>\n",
       "    </tr>\n",
       "    <tr>\n",
       "      <th>4</th>\n",
       "      <td>39.728308</td>\n",
       "      <td>25.272648</td>\n",
       "    </tr>\n",
       "    <tr>\n",
       "      <th>5</th>\n",
       "      <td>17.192887</td>\n",
       "      <td>30.235814</td>\n",
       "    </tr>\n",
       "    <tr>\n",
       "      <th>6</th>\n",
       "      <td>27.718671</td>\n",
       "      <td>29.774692</td>\n",
       "    </tr>\n",
       "    <tr>\n",
       "      <th>7</th>\n",
       "      <td>35.241186</td>\n",
       "      <td>35.577334</td>\n",
       "    </tr>\n",
       "    <tr>\n",
       "      <th>8</th>\n",
       "      <td>26.043893</td>\n",
       "      <td>30.822757</td>\n",
       "    </tr>\n",
       "    <tr>\n",
       "      <th>9</th>\n",
       "      <td>16.996503</td>\n",
       "      <td>NaN</td>\n",
       "    </tr>\n",
       "    <tr>\n",
       "      <th>10</th>\n",
       "      <td>26.645692</td>\n",
       "      <td>NaN</td>\n",
       "    </tr>\n",
       "    <tr>\n",
       "      <th>11</th>\n",
       "      <td>32.220351</td>\n",
       "      <td>NaN</td>\n",
       "    </tr>\n",
       "    <tr>\n",
       "      <th>12</th>\n",
       "      <td>37.960055</td>\n",
       "      <td>NaN</td>\n",
       "    </tr>\n",
       "    <tr>\n",
       "      <th>13</th>\n",
       "      <td>25.359525</td>\n",
       "      <td>NaN</td>\n",
       "    </tr>\n",
       "    <tr>\n",
       "      <th>14</th>\n",
       "      <td>33.464071</td>\n",
       "      <td>NaN</td>\n",
       "    </tr>\n",
       "    <tr>\n",
       "      <th>15</th>\n",
       "      <td>31.894466</td>\n",
       "      <td>NaN</td>\n",
       "    </tr>\n",
       "  </tbody>\n",
       "</table>\n",
       "</div>"
      ],
      "text/plain": [
       "           남자         여자\n",
       "0   47.303636  37.405648\n",
       "1   34.887840  47.369707\n",
       "2   27.681112  41.153413\n",
       "3   27.225157  27.782907\n",
       "4   39.728308  25.272648\n",
       "5   17.192887  30.235814\n",
       "6   27.718671  29.774692\n",
       "7   35.241186  35.577334\n",
       "8   26.043893  30.822757\n",
       "9   16.996503        NaN\n",
       "10  26.645692        NaN\n",
       "11  32.220351        NaN\n",
       "12  37.960055        NaN\n",
       "13  25.359525        NaN\n",
       "14  33.464071        NaN\n",
       "15  31.894466        NaN"
      ]
     },
     "metadata": {},
     "output_type": "display_data"
    },
    {
     "name": "stdout",
     "output_type": "stream",
     "text": [
      "통계량 =  -1.093483758844214\n",
      "p-value =  0.28550224061240215\n",
      "95% 유의수준 하에서 p-value가 0.05보다 크므로 귀무가설 채택.\n",
      "즉, 남학생과 여학생의 평균 혈압 차이가 없다.\n",
      "\n",
      "** 남녀 혈압 평균 = \n",
      "남자 =  30.472709540752902\n",
      "여자 =  33.93276894731488\n"
     ]
    }
   ],
   "source": [
    "d1 = pd.Series(stats.norm(30, 8).rvs(16))\n",
    "d2 = pd.Series(stats.norm(30, 8).rvs(9))\n",
    "data = pd.concat([d1, d2], axis=1)\n",
    "data.columns = ['남자', '여자']\n",
    "display(data)\n",
    "# data = pd.DataFrame(pd.concat())\n",
    "# display(data)\n",
    "\n",
    "s, p = stats.ttest_ind(data['남자'], data['여자'].dropna(), equal_var=True)\n",
    "print('통계량 = ',s)\n",
    "print('p-value = ',p)\n",
    "\n",
    "if p > 0.05:\n",
    "    print('95% 유의수준 하에서 p-value가 0.05보다 크므로 귀무가설 채택.')\n",
    "    print('즉, 남학생과 여학생의 평균 혈압 차이가 없다.')\n",
    "else:\n",
    "    print('95% 유의수준 하에서 p-value가 0.05보다 작으므로 귀무가설 기각.')\n",
    "    print('즉, 남학생과 여학생의 평균 혈압 차이가 있다.')\n",
    "\n",
    "print('\\n** 남녀 혈압 평균 = ')\n",
    "mm = data['남자'].mean()\n",
    "fm = data['여자'].mean()\n",
    "print('남자 = ',mm)\n",
    "print('여자 = ',fm)"
   ]
  },
  {
   "cell_type": "markdown",
   "metadata": {},
   "source": [
    "### 4-3. 4-2에서 구한 검정통계량 값을 바탕으로 신뢰구간을 구하라(5점)"
   ]
  },
  {
   "cell_type": "code",
   "execution_count": 38,
   "metadata": {},
   "outputs": [
    {
     "name": "stdout",
     "output_type": "stream",
     "text": [
      "남자의 신뢰구간 : ( 26.623680308561507 , 34.3217387729443 )\n",
      "여자의 신뢰구간 : ( 29.307797417715335 , 38.55774047691442 )\n"
     ]
    }
   ],
   "source": [
    "# z값이 주어졌겠지..? 주어졌다는 가정 하에 95% 유의수준의 z값 설정\n",
    "z = 1.96\n",
    "ci_1 = z * data['남자'].std() / np.sqrt(16)\n",
    "ci_2 = z * data['여자'].std() / np.sqrt(9)\n",
    "\n",
    "print('남자의 신뢰구간 : (',mm-ci_1,\",\",mm+ci_1,')')\n",
    "print('여자의 신뢰구간 : (',fm-ci_2,',',fm+ci_2,')')"
   ]
  },
  {
   "cell_type": "markdown",
   "metadata": {},
   "source": [
    "# 5. height(키), weight(몸무게), waist(허리둘레) 컬럼을 가진 weight.csv파일을 가지고 다음을 분석하라.\n",
    "### 5-1 키와 몸무게를 독립변수로 받아 허리둘레를 추정하는 베이지안 모델을 제시하라. burn-in은 1,000, MCMC는 10,000으로 넣고, …(5점)."
   ]
  },
  {
   "cell_type": "code",
   "execution_count": null,
   "metadata": {},
   "outputs": [],
   "source": []
  },
  {
   "cell_type": "markdown",
   "metadata": {},
   "source": [
    "### 5-2. 5-1에서 만든 모델을 바탕으로 키 180cm, 허리둘레 85cm인 남성의 몸무게를 추정하라(5점)."
   ]
  },
  {
   "cell_type": "code",
   "execution_count": null,
   "metadata": {},
   "outputs": [],
   "source": []
  }
 ],
 "metadata": {
  "kernelspec": {
   "display_name": "Python 3",
   "language": "python",
   "name": "python3"
  },
  "language_info": {
   "codemirror_mode": {
    "name": "ipython",
    "version": 3
   },
   "file_extension": ".py",
   "mimetype": "text/x-python",
   "name": "python",
   "nbconvert_exporter": "python",
   "pygments_lexer": "ipython3",
   "version": "3.8.5"
  }
 },
 "nbformat": 4,
 "nbformat_minor": 5
}
